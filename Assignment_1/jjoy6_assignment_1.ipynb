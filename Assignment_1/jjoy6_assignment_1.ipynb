{
  "nbformat": 4,
  "nbformat_minor": 0,
  "metadata": {
    "colab": {
      "provenance": [],
      "gpuType": "T4",
      "include_colab_link": true
    },
    "kernelspec": {
      "name": "python3",
      "display_name": "Python 3"
    },
    "language_info": {
      "name": "python"
    },
    "accelerator": "GPU"
  },
  "cells": [
    {
      "cell_type": "markdown",
      "metadata": {
        "id": "view-in-github",
        "colab_type": "text"
      },
      "source": [
        "<a href=\"https://colab.research.google.com/github/jjoy896/jjoy6__64061/blob/main/Assignment_1/jjoy6_assignment_1.ipynb\" target=\"_parent\"><img src=\"https://colab.research.google.com/assets/colab-badge.svg\" alt=\"Open In Colab\"/></a>"
      ]
    },
    {
      "cell_type": "markdown",
      "source": [
        "Assignent_1 Jacob Joy"
      ],
      "metadata": {
        "id": "vyoNVkJvccoh"
      }
    },
    {
      "cell_type": "markdown",
      "source": [
        "Loading the IMDB dataset"
      ],
      "metadata": {
        "id": "NfTu3dFxZQ_g"
      }
    },
    {
      "cell_type": "code",
      "source": [
        "#Importing libraries that will be used\n",
        "import tensorflow as tf\n",
        "import numpy as np\n",
        "import matplotlib.pyplot as plt\n",
        "import os\n",
        "import random\n",
        "from tensorflow import keras\n",
        "from tensorflow.keras import layers\n",
        "from tensorflow.keras.regularizers import l2\n",
        "\n",
        "#importing IMBD Dataset and setting word count to top 10,000\n",
        "from tensorflow.keras.datasets import imdb\n",
        "(train_data, train_labels), (test_data, test_labels) = imdb.load_data(num_words=10000)\n",
        "\n",
        "#Attempting to add some standardisation to RNG for better comparisons\n",
        "#Setting seed to 113 as this is the default seed used in the IMBD data set\n",
        "os.environ['PYTHONHASHSEED'] = str(113)\n",
        "random.seed(113)\n",
        "\n",
        "# Set the seed for NumPy\n",
        "np.random.seed(113)\n",
        "\n",
        "# Set the seed for TensorFlow\n",
        "tf.random.set_seed(113)\n",
        "\n",
        "# Enable deterministic operations\n",
        "tf.config.experimental.enable_op_determinism()\n",
        "\n",
        "# Setting the seed may not make exactly reproducable results but helps to keep them as close as can be without more complex coding."
      ],
      "metadata": {
        "id": "A5WZxy50Zbe8",
        "colab": {
          "base_uri": "https://localhost:8080/"
        },
        "outputId": "4812e533-94e1-4f59-8b1f-efeffc259f32"
      },
      "execution_count": null,
      "outputs": [
        {
          "output_type": "stream",
          "name": "stdout",
          "text": [
            "Downloading data from https://storage.googleapis.com/tensorflow/tf-keras-datasets/imdb.npz\n",
            "\u001b[1m17464789/17464789\u001b[0m \u001b[32m━━━━━━━━━━━━━━━━━━━━\u001b[0m\u001b[37m\u001b[0m \u001b[1m0s\u001b[0m 0us/step\n"
          ]
        }
      ]
    },
    {
      "cell_type": "markdown",
      "source": [
        "Multi-hot encoding of data and labels"
      ],
      "metadata": {
        "id": "kyNiKL1jc3Wb"
      }
    },
    {
      "cell_type": "code",
      "source": [
        "# Using manual Multi-hot encoding\n",
        "# Attempted to use keras to_categorical but would run out of memory\n",
        "def vectorize_sequences(sequences, dimension=10000):\n",
        "    results = np.zeros((len(sequences), dimension))\n",
        "    for i, sequence in enumerate(sequences):\n",
        "        for j in sequence:\n",
        "            results[i, j] = 1.\n",
        "    return results\n",
        "\n",
        "x_train = vectorize_sequences(train_data)\n",
        "x_test = vectorize_sequences(test_data)\n",
        "\n",
        "y_train = np.asarray(train_labels).astype(\"float32\")\n",
        "y_test = np.asarray(test_labels).astype(\"float32\")"
      ],
      "metadata": {
        "id": "K2SMUm72c2qt"
      },
      "execution_count": null,
      "outputs": []
    },
    {
      "cell_type": "markdown",
      "source": [
        "Validation Set"
      ],
      "metadata": {
        "id": "Wa0CU-P2l6QR"
      }
    },
    {
      "cell_type": "code",
      "source": [
        "#Creation of validation set from the training data\n",
        "x_val = x_train[:10000]\n",
        "partial_x_train = x_train[10000:]\n",
        "y_val = y_train[:10000]\n",
        "partial_y_train = y_train[10000:]"
      ],
      "metadata": {
        "id": "du0gafzanJo3"
      },
      "execution_count": null,
      "outputs": []
    },
    {
      "cell_type": "markdown",
      "source": [
        "Building of different models for testing."
      ],
      "metadata": {
        "id": "g9lxfvmdlmJm"
      }
    },
    {
      "cell_type": "code",
      "source": [
        "\n",
        "#Experiment 1\n",
        "\"\"\"\n",
        "model = keras.Sequential([\n",
        "    layers.Dense(8, activation=\"relu\"),\n",
        "    layers.Dense(1, activation=\"sigmoid\")\n",
        "])\n",
        "\"\"\"\n",
        "\n",
        "#Experiment 2\n",
        "\"\"\"\n",
        "model = keras.Sequential([\n",
        "    layers.Dense(16, activation=\"relu\"),\n",
        "    layers.Dense(1, activation=\"sigmoid\")\n",
        "])\n",
        "\"\"\"\n",
        "\n",
        "#Experiment 3\n",
        "\"\"\"\n",
        "model = keras.Sequential([\n",
        "    layers.Dense(64, activation=\"relu\"),\n",
        "    layers.Dense(1, activation=\"sigmoid\")\n",
        "])\n",
        "\"\"\"\n",
        "\n",
        "#Experiment 4\n",
        "\"\"\"\n",
        "model = keras.Sequential([\n",
        "    layers.Dense(128, activation=\"relu\"),\n",
        "    layers.Dense(1, activation=\"sigmoid\")\n",
        "])\n",
        "\"\"\"\n",
        "\n",
        "#Experiment 5\n",
        "\"\"\"\n",
        "model = keras.Sequential([\n",
        "    layers.Dense(8, activation=\"relu\"),\n",
        "    layers.Dense(8, activation=\"relu\"),\n",
        "    layers.Dense(1, activation=\"sigmoid\")\n",
        "])\n",
        "\"\"\"\n",
        "\n",
        "#Experiment 6\n",
        "\"\"\"\n",
        "model = keras.Sequential([\n",
        "    layers.Dense(16, activation=\"relu\"),\n",
        "    layers.Dense(16, activation=\"relu\"),\n",
        "    layers.Dense(1, activation=\"sigmoid\")\n",
        "])\n",
        "\"\"\"\n",
        "\n",
        "#Experiment 7\n",
        "\"\"\"\n",
        "model = keras.Sequential([\n",
        "    layers.Dense(32, activation=\"relu\"),\n",
        "    layers.Dense(32, activation=\"relu\"),\n",
        "    layers.Dense(1, activation=\"sigmoid\")\n",
        "])\n",
        "\n",
        "\"\"\"\n",
        "\n",
        "#Experiment 8\n",
        "\"\"\"\n",
        "model = keras.Sequential([\n",
        "    layers.Dense(64, activation=\"relu\"),\n",
        "    layers.Dense(64, activation=\"relu\"),\n",
        "    layers.Dense(1, activation=\"sigmoid\")\n",
        "])\n",
        "\"\"\"\n",
        "\n",
        "#Experiment 9\n",
        "\"\"\"\n",
        "model = keras.Sequential([\n",
        "    layers.Dense(128, activation=\"relu\"),\n",
        "    layers.Dense(128, activation=\"relu\"),\n",
        "    layers.Dense(1, activation=\"sigmoid\")\n",
        "])\n",
        "\"\"\"\n",
        "\n",
        "#Experiment 10\n",
        "\"\"\"\n",
        "model = keras.Sequential([\n",
        "    layers.Dense(256, activation=\"relu\"),\n",
        "    layers.Dense(256, activation=\"relu\"),\n",
        "    layers.Dense(1, activation=\"sigmoid\")\n",
        "])\n",
        "\"\"\"\n",
        "\n",
        "#Experiment 11\n",
        "\"\"\"\n",
        "model = keras.Sequential([\n",
        "    layers.Dense(8, activation=\"relu\"),\n",
        "    layers.Dense(8, activation=\"relu\"),\n",
        "    layers.Dense(8, activation=\"relu\"),\n",
        "    layers.Dense(1, activation=\"sigmoid\")\n",
        "])\n",
        "\"\"\"\n",
        "\n",
        "#Experiment 12\n",
        "\"\"\"\n",
        "model = keras.Sequential([\n",
        "    layers.Dense(16, activation=\"relu\"),\n",
        "    layers.Dense(16, activation=\"relu\"),\n",
        "    layers.Dense(16, activation=\"relu\"),\n",
        "    layers.Dense(1, activation=\"sigmoid\")\n",
        "])\n",
        "\"\"\"\n",
        "\n",
        "#Experiment 13\n",
        "\"\"\"\n",
        "model = keras.Sequential([\n",
        "    layers.Dense(32, activation=\"relu\"),\n",
        "    layers.Dense(32, activation=\"relu\"),\n",
        "    layers.Dense(32, activation=\"relu\"),\n",
        "    layers.Dense(1, activation=\"sigmoid\")\n",
        "])\n",
        "\"\"\"\n",
        "\n",
        "#Experiment 14\n",
        "\"\"\"\n",
        "model = keras.Sequential([\n",
        "    layers.Dense(64, activation=\"relu\"),\n",
        "    layers.Dense(64, activation=\"relu\"),\n",
        "    layers.Dense(64, activation=\"relu\"),\n",
        "    layers.Dense(1, activation=\"sigmoid\")\n",
        "])\n",
        "\"\"\"\n",
        "\n",
        "#Experiment 15\n",
        "\"\"\"\n",
        "model = keras.Sequential([\n",
        "    layers.Dense(128, activation=\"relu\"),\n",
        "    layers.Dense(128, activation=\"relu\"),\n",
        "    layers.Dense(128, activation=\"relu\"),\n",
        "    layers.Dense(1, activation=\"sigmoid\")\n",
        "])\n",
        "\"\"\"\n",
        "\n",
        "#Experiment 16,19, and 20\n",
        "\"\"\"\n",
        "model = keras.Sequential([\n",
        "    layers.Dense(64, activation=\"relu\"),\n",
        "    layers.Dense(64, activation=\"relu\"),\n",
        "    layers.Dense(64, activation=\"relu\"),\n",
        "    layers.Dense(64, activation=\"relu\"),\n",
        "    layers.Dense(1, activation=\"sigmoid\")\n",
        "])\n",
        "\"\"\"\n",
        "\n",
        "#Experiment 17\n",
        "\"\"\"\n",
        "model = keras.Sequential([\n",
        "    layers.Dense(128, activation=\"relu\"),\n",
        "    layers.Dense(128, activation=\"relu\"),\n",
        "    layers.Dense(128, activation=\"relu\"),\n",
        "    layers.Dense(128, activation=\"relu\"),\n",
        "    layers.Dense(1, activation=\"sigmoid\")\n",
        "])\n",
        "\"\"\"\n",
        "\n",
        "#Experiment 18\n",
        "\"\"\"\n",
        "model = keras.Sequential([\n",
        "    layers.Dense(64, activation=\"tanh\"),\n",
        "    layers.Dense(64, activation=\"tanh\"),\n",
        "    layers.Dense(64, activation=\"tanh\"),\n",
        "    layers.Dense(64, activation=\"tanh\"),\n",
        "    layers.Dense(1, activation=\"sigmoid\")\n",
        "])\n",
        "\"\"\"\n",
        "\n",
        "#Experiment 21 (0.2),22 (0.3), and 23 (0.5)\n",
        "\"\"\"\n",
        "model = keras.Sequential([\n",
        "    layers.Dense(64, activation=\"relu\"),\n",
        "    layers.Dropout(0.5),\n",
        "    layers.Dense(64, activation=\"relu\"),\n",
        "    layers.Dropout(0.5),\n",
        "    layers.Dense(64, activation=\"relu\"),\n",
        "    layers.Dropout(0.5),\n",
        "    layers.Dense(64, activation=\"relu\"),\n",
        "    layers.Dropout(0.5),\n",
        "    layers.Dense(1, activation=\"sigmoid\")\n",
        "])\n",
        "\"\"\"\n",
        "\n",
        "#Experiment 24 (0.00001), 25 (0.0001), and 26 (0.001)\n",
        "\"\"\"\n",
        "model = keras.Sequential([\n",
        "    layers.Dense(64, kernel_regularizer= l2(0.00001), activation=\"relu\"),\n",
        "    layers.Dense(64, kernel_regularizer= l2(0.00001), activation=\"relu\"),\n",
        "    layers.Dense(64, kernel_regularizer= l2(0.00001), activation=\"relu\"),\n",
        "    layers.Dense(64, kernel_regularizer= l2(0.00001), activation=\"relu\"),\n",
        "    layers.Dense(1, activation=\"sigmoid\")\n",
        "])\n",
        "\"\"\"\n",
        "\n",
        "#Experiment 27\n",
        "\"\"\"\n",
        "model = keras.Sequential([\n",
        "    layers.Dense(64, kernel_regularizer= l2(0.00001), activation=\"relu\"),\n",
        "    layers.Dropout(0.3),\n",
        "    layers.Dense(64, kernel_regularizer= l2(0.00001), activation=\"relu\"),\n",
        "    layers.Dropout(0.3),\n",
        "    layers.Dense(64, kernel_regularizer= l2(0.00001), activation=\"relu\"),\n",
        "    layers.Dropout(0.3),\n",
        "    layers.Dense(64, kernel_regularizer= l2(0.00001), activation=\"relu\"),\n",
        "    layers.Dropout(0.3),\n",
        "    layers.Dense(1, activation=\"sigmoid\")\n",
        "])\n",
        "\"\"\"\n",
        "\n",
        "#Final Model\n",
        "\n",
        "model = keras.Sequential([\n",
        "    layers.Dense(64, activation=\"relu\"),\n",
        "    layers.Dropout(0.3),\n",
        "    layers.Dense(64, activation=\"relu\"),\n",
        "    layers.Dropout(0.3),\n",
        "    layers.Dense(64, activation=\"relu\"),\n",
        "    layers.Dropout(0.3),\n",
        "    layers.Dense(64, activation=\"relu\"),\n",
        "    layers.Dropout(0.3),\n",
        "    layers.Dense(1, activation=\"sigmoid\")\n",
        "])\n",
        "\n",
        "\n"
      ],
      "metadata": {
        "id": "e-QDbDz7lRSB"
      },
      "execution_count": null,
      "outputs": []
    },
    {
      "cell_type": "markdown",
      "source": [
        "Compiling Model"
      ],
      "metadata": {
        "id": "wAU4ZNfJltXY"
      }
    },
    {
      "cell_type": "code",
      "source": [
        "\n",
        "model.compile(optimizer='rmsprop',loss=\"binary_crossentropy\", metrics=[\"accuracy\"])\n",
        "\n",
        "#Used for Experiment 19\n",
        "#model.compile(optimizer=\"rmsprop\",loss=\"mse\", metrics=[\"accuracy\"])\n",
        "\n",
        "#Used for Experiment 20\n",
        "#model.compile(optimizer='adam', loss=\"binary_crossentropy\", metrics=[\"accuracy\"])"
      ],
      "metadata": {
        "id": "2pDln78Klxqp"
      },
      "execution_count": null,
      "outputs": []
    },
    {
      "cell_type": "markdown",
      "source": [
        "Training Model"
      ],
      "metadata": {
        "id": "7n55B-qAl-7E"
      }
    },
    {
      "cell_type": "code",
      "source": [
        "history = model.fit(partial_x_train,\n",
        "                    partial_y_train,\n",
        "                    epochs=20,\n",
        "                    batch_size=512,\n",
        "                    validation_data=(x_val, y_val))\n",
        "\n",
        "history_dict = history.history\n",
        "history_dict.keys()"
      ],
      "metadata": {
        "colab": {
          "base_uri": "https://localhost:8080/"
        },
        "id": "QcWlF3uXmSy0",
        "outputId": "f65d4b24-e2ea-4419-a91c-7a6c324698f7"
      },
      "execution_count": null,
      "outputs": [
        {
          "output_type": "stream",
          "name": "stdout",
          "text": [
            "Epoch 1/20\n",
            "\u001b[1m30/30\u001b[0m \u001b[32m━━━━━━━━━━━━━━━━━━━━\u001b[0m\u001b[37m\u001b[0m \u001b[1m8s\u001b[0m 80ms/step - accuracy: 0.6169 - loss: 0.6402 - val_accuracy: 0.8332 - val_loss: 0.3948\n",
            "Epoch 2/20\n",
            "\u001b[1m30/30\u001b[0m \u001b[32m━━━━━━━━━━━━━━━━━━━━\u001b[0m\u001b[37m\u001b[0m \u001b[1m1s\u001b[0m 34ms/step - accuracy: 0.8484 - loss: 0.3768 - val_accuracy: 0.8818 - val_loss: 0.2914\n",
            "Epoch 3/20\n",
            "\u001b[1m30/30\u001b[0m \u001b[32m━━━━━━━━━━━━━━━━━━━━\u001b[0m\u001b[37m\u001b[0m \u001b[1m1s\u001b[0m 33ms/step - accuracy: 0.8990 - loss: 0.2673 - val_accuracy: 0.8883 - val_loss: 0.2850\n",
            "Epoch 4/20\n",
            "\u001b[1m30/30\u001b[0m \u001b[32m━━━━━━━━━━━━━━━━━━━━\u001b[0m\u001b[37m\u001b[0m \u001b[1m1s\u001b[0m 30ms/step - accuracy: 0.9263 - loss: 0.2076 - val_accuracy: 0.8880 - val_loss: 0.3042\n",
            "Epoch 5/20\n",
            "\u001b[1m30/30\u001b[0m \u001b[32m━━━━━━━━━━━━━━━━━━━━\u001b[0m\u001b[37m\u001b[0m \u001b[1m1s\u001b[0m 30ms/step - accuracy: 0.9462 - loss: 0.1565 - val_accuracy: 0.8849 - val_loss: 0.3470\n",
            "Epoch 6/20\n",
            "\u001b[1m30/30\u001b[0m \u001b[32m━━━━━━━━━━━━━━━━━━━━\u001b[0m\u001b[37m\u001b[0m \u001b[1m2s\u001b[0m 42ms/step - accuracy: 0.9559 - loss: 0.1249 - val_accuracy: 0.8864 - val_loss: 0.3662\n",
            "Epoch 7/20\n",
            "\u001b[1m30/30\u001b[0m \u001b[32m━━━━━━━━━━━━━━━━━━━━\u001b[0m\u001b[37m\u001b[0m \u001b[1m2s\u001b[0m 30ms/step - accuracy: 0.9734 - loss: 0.0813 - val_accuracy: 0.8811 - val_loss: 0.4654\n",
            "Epoch 8/20\n",
            "\u001b[1m30/30\u001b[0m \u001b[32m━━━━━━━━━━━━━━━━━━━━\u001b[0m\u001b[37m\u001b[0m \u001b[1m1s\u001b[0m 31ms/step - accuracy: 0.9769 - loss: 0.0674 - val_accuracy: 0.8775 - val_loss: 0.5721\n",
            "Epoch 9/20\n",
            "\u001b[1m30/30\u001b[0m \u001b[32m━━━━━━━━━━━━━━━━━━━━\u001b[0m\u001b[37m\u001b[0m \u001b[1m2s\u001b[0m 40ms/step - accuracy: 0.9801 - loss: 0.0609 - val_accuracy: 0.8773 - val_loss: 0.6001\n",
            "Epoch 10/20\n",
            "\u001b[1m30/30\u001b[0m \u001b[32m━━━━━━━━━━━━━━━━━━━━\u001b[0m\u001b[37m\u001b[0m \u001b[1m1s\u001b[0m 39ms/step - accuracy: 0.9693 - loss: 0.1007 - val_accuracy: 0.8834 - val_loss: 0.6157\n",
            "Epoch 11/20\n",
            "\u001b[1m30/30\u001b[0m \u001b[32m━━━━━━━━━━━━━━━━━━━━\u001b[0m\u001b[37m\u001b[0m \u001b[1m1s\u001b[0m 34ms/step - accuracy: 0.9958 - loss: 0.0139 - val_accuracy: 0.8779 - val_loss: 0.7446\n",
            "Epoch 12/20\n",
            "\u001b[1m30/30\u001b[0m \u001b[32m━━━━━━━━━━━━━━━━━━━━\u001b[0m\u001b[37m\u001b[0m \u001b[1m1s\u001b[0m 34ms/step - accuracy: 0.9901 - loss: 0.0292 - val_accuracy: 0.8827 - val_loss: 0.6836\n",
            "Epoch 13/20\n",
            "\u001b[1m30/30\u001b[0m \u001b[32m━━━━━━━━━━━━━━━━━━━━\u001b[0m\u001b[37m\u001b[0m \u001b[1m1s\u001b[0m 30ms/step - accuracy: 0.9958 - loss: 0.0142 - val_accuracy: 0.8817 - val_loss: 0.7663\n",
            "Epoch 14/20\n",
            "\u001b[1m30/30\u001b[0m \u001b[32m━━━━━━━━━━━━━━━━━━━━\u001b[0m\u001b[37m\u001b[0m \u001b[1m2s\u001b[0m 47ms/step - accuracy: 0.9984 - loss: 0.0057 - val_accuracy: 0.8800 - val_loss: 0.8468\n",
            "Epoch 15/20\n",
            "\u001b[1m30/30\u001b[0m \u001b[32m━━━━━━━━━━━━━━━━━━━━\u001b[0m\u001b[37m\u001b[0m \u001b[1m1s\u001b[0m 36ms/step - accuracy: 0.9962 - loss: 0.0106 - val_accuracy: 0.8744 - val_loss: 0.7662\n",
            "Epoch 16/20\n",
            "\u001b[1m30/30\u001b[0m \u001b[32m━━━━━━━━━━━━━━━━━━━━\u001b[0m\u001b[37m\u001b[0m \u001b[1m1s\u001b[0m 36ms/step - accuracy: 0.9980 - loss: 0.0087 - val_accuracy: 0.8799 - val_loss: 0.8357\n",
            "Epoch 17/20\n",
            "\u001b[1m30/30\u001b[0m \u001b[32m━━━━━━━━━━━━━━━━━━━━\u001b[0m\u001b[37m\u001b[0m \u001b[1m1s\u001b[0m 33ms/step - accuracy: 0.9984 - loss: 0.0052 - val_accuracy: 0.8809 - val_loss: 0.9294\n",
            "Epoch 18/20\n",
            "\u001b[1m30/30\u001b[0m \u001b[32m━━━━━━━━━━━━━━━━━━━━\u001b[0m\u001b[37m\u001b[0m \u001b[1m1s\u001b[0m 39ms/step - accuracy: 0.9980 - loss: 0.0063 - val_accuracy: 0.8777 - val_loss: 1.0403\n",
            "Epoch 19/20\n",
            "\u001b[1m30/30\u001b[0m \u001b[32m━━━━━━━━━━━━━━━━━━━━\u001b[0m\u001b[37m\u001b[0m \u001b[1m1s\u001b[0m 43ms/step - accuracy: 0.9963 - loss: 0.0171 - val_accuracy: 0.8794 - val_loss: 0.9324\n",
            "Epoch 20/20\n",
            "\u001b[1m30/30\u001b[0m \u001b[32m━━━━━━━━━━━━━━━━━━━━\u001b[0m\u001b[37m\u001b[0m \u001b[1m2s\u001b[0m 28ms/step - accuracy: 0.9986 - loss: 0.0045 - val_accuracy: 0.8799 - val_loss: 1.0180\n"
          ]
        },
        {
          "output_type": "execute_result",
          "data": {
            "text/plain": [
              "dict_keys(['accuracy', 'loss', 'val_accuracy', 'val_loss'])"
            ]
          },
          "metadata": {},
          "execution_count": 6
        }
      ]
    },
    {
      "cell_type": "markdown",
      "source": [
        "Plotting taining and Validation loss"
      ],
      "metadata": {
        "id": "nCMyOa8omDnA"
      }
    },
    {
      "cell_type": "code",
      "source": [
        "import matplotlib.pyplot as plt\n",
        "history_dict = history.history\n",
        "loss_values = history_dict[\"loss\"]\n",
        "val_loss_values = history_dict[\"val_loss\"]\n",
        "epochs = range(1, len(loss_values) + 1)\n",
        "plt.plot(epochs, loss_values, \"bo\", label=\"Training loss\")\n",
        "plt.plot(epochs, val_loss_values, \"b\", label=\"Validation loss\")\n",
        "plt.title(\"Training and validation loss\")\n",
        "plt.xlabel(\"Epochs\")\n",
        "plt.ylabel(\"Loss\")\n",
        "plt.legend()\n",
        "plt.show()"
      ],
      "metadata": {
        "colab": {
          "base_uri": "https://localhost:8080/",
          "height": 472
        },
        "id": "wjTb-aVHnVS9",
        "outputId": "0fc02bc3-9f4d-43bc-fa34-c04d74a2648a"
      },
      "execution_count": null,
      "outputs": [
        {
          "output_type": "display_data",
          "data": {
            "text/plain": [
              "<Figure size 640x480 with 1 Axes>"
            ],
            "image/png": "[encoded data removed]"
          },
          "metadata": {}
        }
      ]
    },
    {
      "cell_type": "markdown",
      "source": [
        "Plotting training and Validation acccuracy"
      ],
      "metadata": {
        "id": "wOa81iO4mNf6"
      }
    },
    {
      "cell_type": "code",
      "source": [
        "plt.clf()\n",
        "acc = history_dict[\"accuracy\"]\n",
        "val_acc = history_dict[\"val_accuracy\"]\n",
        "plt.plot(epochs, acc, \"bo\", label=\"Training acc\")\n",
        "plt.plot(epochs, val_acc, \"b\", label=\"Validation acc\")\n",
        "plt.title(\"Training and validation accuracy\")\n",
        "plt.xlabel(\"Epochs\")\n",
        "plt.ylabel(\"Accuracy\")\n",
        "plt.legend()\n",
        "plt.show()"
      ],
      "metadata": {
        "colab": {
          "base_uri": "https://localhost:8080/",
          "height": 472
        },
        "id": "OKc-xTrunaVA",
        "outputId": "f77ac10b-65b1-40db-fe2d-0a4c6936ec9f"
      },
      "execution_count": null,
      "outputs": [
        {
          "output_type": "display_data",
          "data": {
            "text/plain": [
              "<Figure size 640x480 with 1 Axes>"
            ],
            "image/png": "[encoded data removed]"
          },
          "metadata": {}
        }
      ]
    },
    {
      "cell_type": "markdown",
      "source": [
        "Retraining the model using number of epochs set before validation deteriorates"
      ],
      "metadata": {
        "id": "6G0uAaTymf-a"
      }
    },
    {
      "cell_type": "code",
      "source": [
        "#Experiment 1\n",
        "\"\"\"\n",
        "model = keras.Sequential([\n",
        "    layers.Dense(8, activation=\"relu\"),\n",
        "    layers.Dense(1, activation=\"sigmoid\")\n",
        "])\n",
        "\"\"\"\n",
        "\n",
        "#Experiment 2\n",
        "\"\"\"\n",
        "model = keras.Sequential([\n",
        "    layers.Dense(16, activation=\"relu\"),\n",
        "    layers.Dense(1, activation=\"sigmoid\")\n",
        "])\n",
        "\"\"\"\n",
        "\n",
        "\n",
        "#Experiment 3\n",
        "\"\"\"\n",
        "model = keras.Sequential([\n",
        "    layers.Dense(64, activation=\"relu\"),\n",
        "    layers.Dense(1, activation=\"sigmoid\")\n",
        "])\n",
        "\"\"\"\n",
        "\n",
        "#Experiment 4\n",
        "\"\"\"\n",
        "model = keras.Sequential([\n",
        "    layers.Dense(128, activation=\"relu\"),\n",
        "    layers.Dense(1, activation=\"sigmoid\")\n",
        "])\n",
        "\"\"\"\n",
        "\n",
        "#Experiment 5\n",
        "\"\"\"\n",
        "model = keras.Sequential([\n",
        "    layers.Dense(8, activation=\"relu\"),\n",
        "    layers.Dense(8, activation=\"relu\"),\n",
        "    layers.Dense(1, activation=\"sigmoid\")\n",
        "])\n",
        "\"\"\"\n",
        "#Experiment 6\n",
        "\"\"\"\n",
        "model = keras.Sequential([\n",
        "    layers.Dense(16, activation=\"relu\"),\n",
        "    layers.Dense(16, activation=\"relu\"),\n",
        "    layers.Dense(1, activation=\"sigmoid\")\n",
        "])\n",
        "\"\"\"\n",
        "\n",
        "#Experiment 7\n",
        "\"\"\"\n",
        "model = keras.Sequential([\n",
        "    layers.Dense(32, activation=\"relu\"),\n",
        "    layers.Dense(32, activation=\"relu\"),\n",
        "    layers.Dense(1, activation=\"sigmoid\")\n",
        "])\n",
        "\"\"\"\n",
        "\n",
        "#Experiment 8\n",
        "\"\"\"\n",
        "model = keras.Sequential([\n",
        "    layers.Dense(64, activation=\"relu\"),\n",
        "    layers.Dense(64, activation=\"relu\"),\n",
        "    layers.Dense(1, activation=\"sigmoid\")\n",
        "])\n",
        "\"\"\"\n",
        "\n",
        "#Experiment 9\n",
        "\"\"\"\n",
        "model = keras.Sequential([\n",
        "    layers.Dense(128, activation=\"relu\"),\n",
        "    layers.Dense(128, activation=\"relu\"),\n",
        "    layers.Dense(1, activation=\"sigmoid\")\n",
        "])\n",
        "\"\"\"\n",
        "\n",
        "#Experiment 10\n",
        "\"\"\"\n",
        "model = keras.Sequential([\n",
        "    layers.Dense(256, activation=\"relu\"),\n",
        "    layers.Dense(256, activation=\"relu\"),\n",
        "    layers.Dense(1, activation=\"sigmoid\")\n",
        "])\n",
        "\"\"\"\n",
        "\n",
        "#Experiment 11\n",
        "\"\"\"\n",
        "model = keras.Sequential([\n",
        "    layers.Dense(8, activation=\"relu\"),\n",
        "    layers.Dense(8, activation=\"relu\"),\n",
        "    layers.Dense(8, activation=\"relu\"),\n",
        "    layers.Dense(1, activation=\"sigmoid\")\n",
        "])\n",
        "\"\"\"\n",
        "\n",
        "#Experiment 12\n",
        "\"\"\"\n",
        "model = keras.Sequential([\n",
        "    layers.Dense(16, activation=\"relu\"),\n",
        "    layers.Dense(16, activation=\"relu\"),\n",
        "    layers.Dense(16, activation=\"relu\"),\n",
        "    layers.Dense(1, activation=\"sigmoid\")\n",
        "])\n",
        "\"\"\"\n",
        "\n",
        "#Experiment 13\n",
        "\"\"\"\n",
        "model = keras.Sequential([\n",
        "    layers.Dense(32, activation=\"relu\"),\n",
        "    layers.Dense(32, activation=\"relu\"),\n",
        "    layers.Dense(32, activation=\"relu\"),\n",
        "    layers.Dense(1, activation=\"sigmoid\")\n",
        "])\n",
        "\"\"\"\n",
        "\n",
        "#Experiment 14\n",
        "\"\"\"\n",
        "model = keras.Sequential([\n",
        "    layers.Dense(64, activation=\"relu\"),\n",
        "    layers.Dense(64, activation=\"relu\"),\n",
        "    layers.Dense(64, activation=\"relu\"),\n",
        "    layers.Dense(1, activation=\"sigmoid\")\n",
        "])\n",
        "\"\"\"\n",
        "\n",
        "#Experiment 15\n",
        "\"\"\"\n",
        "model = keras.Sequential([\n",
        "    layers.Dense(128, activation=\"relu\"),\n",
        "    layers.Dense(128, activation=\"relu\"),\n",
        "    layers.Dense(128, activation=\"relu\"),\n",
        "    layers.Dense(1, activation=\"sigmoid\")\n",
        "])\n",
        "\"\"\"\n",
        "\n",
        "#Experiment 16,19, and 20\n",
        "\"\"\"\n",
        "model = keras.Sequential([\n",
        "    layers.Dense(64, activation=\"relu\"),\n",
        "    layers.Dense(64, activation=\"relu\"),\n",
        "    layers.Dense(64, activation=\"relu\"),\n",
        "    layers.Dense(64, activation=\"relu\"),\n",
        "    layers.Dense(1, activation=\"sigmoid\")\n",
        "])\n",
        "\"\"\"\n",
        "\n",
        "#Experiment 17\n",
        "\"\"\"\n",
        "model = keras.Sequential([\n",
        "    layers.Dense(128, activation=\"relu\"),\n",
        "    layers.Dense(128, activation=\"relu\"),\n",
        "    layers.Dense(128, activation=\"relu\"),\n",
        "    layers.Dense(128, activation=\"relu\"),\n",
        "    layers.Dense(1, activation=\"sigmoid\")\n",
        "])\n",
        "\"\"\"\n",
        "\n",
        "#Experiment 18\n",
        "\"\"\"\n",
        "model = keras.Sequential([\n",
        "    layers.Dense(64, activation=\"tanh\"),\n",
        "    layers.Dense(64, activation=\"tanh\"),\n",
        "    layers.Dense(64, activation=\"tanh\"),\n",
        "    layers.Dense(64, activation=\"tanh\"),\n",
        "    layers.Dense(1, activation=\"sigmoid\")\n",
        "])\n",
        "\"\"\"\n",
        "\n",
        "#Experiment 21 (0.2),22 (0.3), and 23 (0.5)\n",
        "\"\"\"\n",
        "model = keras.Sequential([\n",
        "    layers.Dense(64, activation=\"relu\"),\n",
        "    layers.Dropout(0.5),\n",
        "    layers.Dense(64, activation=\"relu\"),\n",
        "    layers.Dropout(0.5),\n",
        "    layers.Dense(64, activation=\"relu\"),\n",
        "    layers.Dropout(0.5),\n",
        "    layers.Dense(64, activation=\"relu\"),\n",
        "    layers.Dropout(0.5),\n",
        "    layers.Dense(1, activation=\"sigmoid\")\n",
        "])\n",
        "\"\"\"\n",
        "#Experiment 24 (0.00001), 25 (0.0001), and 26 (0.001)\n",
        "\"\"\"\n",
        "model = keras.Sequential([\n",
        "    layers.Dense(64, kernel_regularizer= l2(0.00001), activation=\"relu\"),\n",
        "    layers.Dense(64, kernel_regularizer= l2(0.00001), activation=\"relu\"),\n",
        "    layers.Dense(64, kernel_regularizer= l2(0.00001), activation=\"relu\"),\n",
        "    layers.Dense(64, kernel_regularizer= l2(0.00001), activation=\"relu\"),\n",
        "    layers.Dense(1, activation=\"sigmoid\")\n",
        "])\n",
        "\"\"\"\n",
        "\n",
        "#Experiment 27\n",
        "\"\"\"\n",
        "model = keras.Sequential([\n",
        "    layers.Dense(64, kernel_regularizer= l2(0.00001), activation=\"relu\"),\n",
        "    layers.Dropout(0.3),\n",
        "    layers.Dense(64, kernel_regularizer= l2(0.00001), activation=\"relu\"),\n",
        "    layers.Dropout(0.3),\n",
        "    layers.Dense(64, kernel_regularizer= l2(0.00001), activation=\"relu\"),\n",
        "    layers.Dropout(0.3),\n",
        "    layers.Dense(64, kernel_regularizer= l2(0.00001), activation=\"relu\"),\n",
        "    layers.Dropout(0.3),\n",
        "    layers.Dense(1, activation=\"sigmoid\")\n",
        "])\n",
        "\"\"\"\n",
        "\n",
        "#Final Model\n",
        "\n",
        "model = keras.Sequential([\n",
        "    layers.Dense(64, activation=\"relu\"),\n",
        "    layers.Dropout(0.3),\n",
        "    layers.Dense(64, activation=\"relu\"),\n",
        "    layers.Dropout(0.3),\n",
        "    layers.Dense(64, activation=\"relu\"),\n",
        "    layers.Dropout(0.3),\n",
        "    layers.Dense(64, activation=\"relu\"),\n",
        "    layers.Dropout(0.3),\n",
        "    layers.Dense(1, activation=\"sigmoid\")\n",
        "])\n",
        "\n",
        "\n",
        "model.compile(optimizer='rmsprop',loss=\"binary_crossentropy\", metrics=[\"accuracy\"])\n",
        "\n",
        "#Used for Experiment 19\n",
        "#model.compile(optimizer=\"rmsprop\",loss=\"mse\", metrics=[\"accuracy\"])\n",
        "\n",
        "#Used for Experiment 20\n",
        "#model.compile(optimizer=optimizer, loss=\"binary_crossentropy\", metrics=[\"accuracy\"])\n",
        "\n",
        "model.fit(x_train, y_train, epochs=3, batch_size=512)\n",
        "results_test = model.evaluate(x_test, y_test)\n",
        "results_val = model.evaluate(x_val, y_val)\n",
        "results_train = model.evaluate(x_train, y_train)\n",
        "print('Training results (loss,Acc)')\n",
        "print(results_train)\n",
        "print('Val results (loss,Acc)')\n",
        "print(results_val)\n",
        "print('Test results (loss,Acc)')\n",
        "print(results_test)"
      ],
      "metadata": {
        "colab": {
          "base_uri": "https://localhost:8080/"
        },
        "id": "JAZXSMMqnemB",
        "outputId": "c79aa239-ed0a-47bf-9d75-e38ab1e5432c"
      },
      "execution_count": null,
      "outputs": [
        {
          "output_type": "stream",
          "name": "stdout",
          "text": [
            "Epoch 1/3\n",
            "\u001b[1m49/49\u001b[0m \u001b[32m━━━━━━━━━━━━━━━━━━━━\u001b[0m\u001b[37m\u001b[0m \u001b[1m3s\u001b[0m 17ms/step - accuracy: 0.6625 - loss: 0.5996\n",
            "Epoch 2/3\n",
            "\u001b[1m49/49\u001b[0m \u001b[32m━━━━━━━━━━━━━━━━━━━━\u001b[0m\u001b[37m\u001b[0m \u001b[1m1s\u001b[0m 21ms/step - accuracy: 0.8784 - loss: 0.3153\n",
            "Epoch 3/3\n",
            "\u001b[1m49/49\u001b[0m \u001b[32m━━━━━━━━━━━━━━━━━━━━\u001b[0m\u001b[37m\u001b[0m \u001b[1m2s\u001b[0m 29ms/step - accuracy: 0.9156 - loss: 0.2265\n",
            "\u001b[1m782/782\u001b[0m \u001b[32m━━━━━━━━━━━━━━━━━━━━\u001b[0m\u001b[37m\u001b[0m \u001b[1m3s\u001b[0m 3ms/step - accuracy: 0.8874 - loss: 0.2966\n",
            "\u001b[1m313/313\u001b[0m \u001b[32m━━━━━━━━━━━━━━━━━━━━\u001b[0m\u001b[37m\u001b[0m \u001b[1m1s\u001b[0m 3ms/step - accuracy: 0.9579 - loss: 0.1184\n",
            "\u001b[1m782/782\u001b[0m \u001b[32m━━━━━━━━━━━━━━━━━━━━\u001b[0m\u001b[37m\u001b[0m \u001b[1m3s\u001b[0m 3ms/step - accuracy: 0.9578 - loss: 0.1203\n",
            "Training results (loss,Acc)\n",
            "[0.12189925462007523, 0.957319974899292]\n",
            "Val results (loss,Acc)\n",
            "[0.1203325092792511, 0.9587000012397766]\n",
            "Test results (loss,Acc)\n",
            "[0.29753419756889343, 0.8867200016975403]\n"
          ]
        }
      ]
    },
    {
      "cell_type": "markdown",
      "source": [
        "Predict"
      ],
      "metadata": {
        "id": "lxwd96GmAtME"
      }
    },
    {
      "cell_type": "code",
      "source": [
        "model.predict(x_test)"
      ],
      "metadata": {
        "colab": {
          "base_uri": "https://localhost:8080/"
        },
        "id": "qd2XKdnAnoON",
        "outputId": "b846214a-5eb2-446d-f7cf-4c36181d1d94"
      },
      "execution_count": null,
      "outputs": [
        {
          "output_type": "stream",
          "name": "stdout",
          "text": [
            "\u001b[1m782/782\u001b[0m \u001b[32m━━━━━━━━━━━━━━━━━━━━\u001b[0m\u001b[37m\u001b[0m \u001b[1m2s\u001b[0m 2ms/step\n"
          ]
        },
        {
          "output_type": "execute_result",
          "data": {
            "text/plain": [
              "array([[0.07631286],\n",
              "       [0.9999299 ],\n",
              "       [0.908958  ],\n",
              "       ...,\n",
              "       [0.06250498],\n",
              "       [0.03814842],\n",
              "       [0.79949695]], dtype=float32)"
            ]
          },
          "metadata": {},
          "execution_count": 11
        }
      ]
    }
  ]
}